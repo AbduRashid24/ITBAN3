{
  "nbformat": 4,
  "nbformat_minor": 0,
  "metadata": {
    "colab": {
      "provenance": [],
      "authorship_tag": "ABX9TyOqJ7az0GOq9IxX2eyX4tS6",
      "include_colab_link": true
    },
    "kernelspec": {
      "name": "python3",
      "display_name": "Python 3"
    },
    "language_info": {
      "name": "python"
    }
  },
  "cells": [
    {
      "cell_type": "markdown",
      "metadata": {
        "id": "view-in-github",
        "colab_type": "text"
      },
      "source": [
        "<a href=\"https://colab.research.google.com/github/AbduRashid24/ITBAN3/blob/main/LabActivity3-1_Suminguit.ipynb\" target=\"_parent\"><img src=\"https://colab.research.google.com/assets/colab-badge.svg\" alt=\"Open In Colab\"/></a>"
      ]
    },
    {
      "cell_type": "markdown",
      "source": [
        "\n",
        "(a) To list the average fare per month for each business traveller who\n",
        "\n",
        "flies Philippine Airlines (PA) from Davao City to Manila in the year 2023, we can perform the following OLAP operations:\n",
        "\n",
        "Roll-up the departure time dimension to the month level.\n",
        "\n",
        "Select the traveller dimension where the flight is from Philippine Airlines (PA) and the departure is Davao City and the arrival is Manila in the year 2023.\n",
        "\n",
        "\n"
      ],
      "metadata": {
        "id": "xUq2eu9cSWE0"
      }
    },
    {
      "cell_type": "code",
      "execution_count": 3,
      "metadata": {
        "colab": {
          "base_uri": "https://localhost:8080/"
        },
        "id": "Xcny0ovpSA4n",
        "outputId": "b470f19b-1ba4-495e-e77a-bc2c18d9367e"
      },
      "outputs": [
        {
          "output_type": "stream",
          "name": "stdout",
          "text": [
            "Drive already mounted at /content/drive; to attempt to forcibly remount, call drive.mount(\"/content/drive\", force_remount=True).\n"
          ]
        }
      ],
      "source": [
        "from google.colab import drive\n",
        "drive.mount('/content/drive')"
      ]
    },
    {
      "cell_type": "code",
      "source": [
        "import pandas as pd\n",
        "\n",
        "data = {\n",
        "    'traveller': ['Justine', 'John', 'Gomez', 'Elise', 'Guzman'],\n",
        "    'departure': ['Davao City', 'Davao City', 'Manila', 'Davao City', 'Davao City'],\n",
        "    'departure_time': ['2023-01-05', '2023-02-10', '2023-03-15', '2023-01-20', '2023-04-25'],\n",
        "    'arrival': ['Manila', 'Manila', 'Davao City', 'Manila', 'Manila'],\n",
        "    'arrival_time': ['2023-01-06', '2023-02-11', '2023-03-16', '2023-01-21', '2023-04-26'],\n",
        "    'flight': ['PA123', 'PA456', 'CebuPac789', 'PA101', 'PA222'],\n",
        "    'fare': [5000, 6000, 7000, 5500, 6200]\n",
        "}\n",
        "\n",
        "df = pd.DataFrame(data)\n",
        "df['departure_time'] = pd.to_datetime(df['departure_time'])\n",
        "df['arrival_time'] = pd.to_datetime(df['arrival_time'])\n",
        "\n",
        "# Step 1: Roll-up departure_time to month level\n",
        "df['departure_time'] = df['departure_time'].dt.to_period('M')\n",
        "\n",
        "# Step 2: Select traveller, flight, departure, arrival, and avg_fare where flight starts with 'PAL' and departure is 'Davao City' and arrival is 'Manila' in 2023\n",
        "filtered_df = df[(df['flight'].str.startswith('PA')) & (df['departure'] == 'Davao City') & (df['arrival'] == 'Manila') & (df['departure_time'].dt.year == 2023)]\n",
        "\n",
        "# Step 3: Select avg_fare\n",
        "avg_fare_per_month = filtered_df.groupby(['traveller', 'departure_time'])['fare'].mean()\n",
        "\n",
        "print(avg_fare_per_month)"
      ],
      "metadata": {
        "colab": {
          "base_uri": "https://localhost:8080/"
        },
        "id": "R5Fhpk3tSsE9",
        "outputId": "42ed2040-90b0-45ef-f9e3-3500b4b6c3e3"
      },
      "execution_count": 4,
      "outputs": [
        {
          "output_type": "stream",
          "name": "stdout",
          "text": [
            "traveller  departure_time\n",
            "Elise      2023-01           5500.0\n",
            "Guzman     2023-04           6200.0\n",
            "John       2023-02           6000.0\n",
            "Justine    2023-01           5000.0\n",
            "Name: fare, dtype: float64\n"
          ]
        }
      ]
    },
    {
      "cell_type": "markdown",
      "source": [
        "(b) To compute a data cube where the conditions are that the minimum number of records is 10 and the average fare is over Php 5,000.00, we can use the following method:\n",
        "\n",
        "Filter the data to only include records where the fare is over Php 5,000.00.\n",
        "\n",
        "Group the data by the desired dimensions (e.g. traveller, departure, departure_time, arrival, arrival_time, flight).\n",
        "\n",
        "Count the number of records in each group.\n",
        "\n",
        "Filter the groups to only include those with a minimum number of records (e.g. 10)."
      ],
      "metadata": {
        "id": "u-XGaNj1S1a8"
      }
    },
    {
      "cell_type": "code",
      "source": [
        "# Step 1: Filter avg_fare over 5000\n",
        "filtered_df = df[df['fare'] > 5000]\n",
        "\n",
        "# Step 2: Group by dimensions\n",
        "grouped_df = filtered_df.groupby(['traveller', 'departure', 'departure_time', 'arrival', 'arrival_time', 'flight'])\n",
        "\n",
        "# Step 3: Count records in each group\n",
        "count_df = grouped_df.size().reset_index(name='count')\n",
        "\n",
        "# Step 4: Filter groups that have a minimum number of records greater than or equal to 10\n",
        "min_records_df = count_df[count_df['count'] >= 10]\n",
        "\n",
        "print(min_records_df)"
      ],
      "metadata": {
        "colab": {
          "base_uri": "https://localhost:8080/"
        },
        "id": "4CPwRnXzS8nC",
        "outputId": "9da1a313-73aa-47d4-c195-f6b628622017"
      },
      "execution_count": 5,
      "outputs": [
        {
          "output_type": "stream",
          "name": "stdout",
          "text": [
            "Empty DataFrame\n",
            "Columns: [traveller, departure, departure_time, arrival, arrival_time, flight, count]\n",
            "Index: []\n"
          ]
        }
      ]
    }
  ]
}