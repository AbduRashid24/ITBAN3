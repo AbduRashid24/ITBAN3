{
  "nbformat": 4,
  "nbformat_minor": 0,
  "metadata": {
    "colab": {
      "provenance": [],
      "authorship_tag": "ABX9TyOHTB3cD31IJlvxNnwZrJZz",
      "include_colab_link": true
    },
    "kernelspec": {
      "name": "python3",
      "display_name": "Python 3"
    },
    "language_info": {
      "name": "python"
    }
  },
  "cells": [
    {
      "cell_type": "markdown",
      "metadata": {
        "id": "view-in-github",
        "colab_type": "text"
      },
      "source": [
        "<a href=\"https://colab.research.google.com/github/AbduRashid24/ITBAN3/blob/main/LabActivity3_2_Suminguit.ipynb\" target=\"_parent\"><img src=\"https://colab.research.google.com/assets/colab-badge.svg\" alt=\"Open In Colab\"/></a>"
      ]
    },
    {
      "cell_type": "code",
      "execution_count": 1,
      "metadata": {
        "colab": {
          "base_uri": "https://localhost:8080/"
        },
        "id": "JdUiGHfxatyb",
        "outputId": "959d5eec-30c3-461c-805c-a1f59fb52220"
      },
      "outputs": [
        {
          "output_type": "stream",
          "name": "stdout",
          "text": [
            "Average fare per month for each business traveller who flies Philippine Airlines (PA) from Davao City to Manila in 2023:\n",
            "   month traveller  avg_fare\n",
            "0      1      Leah    5000.0\n",
            "1      2     Eashy    5500.0\n",
            "2      3    Angelo    5300.0\n",
            "\n",
            "Efficient cube computation method for minimum number of records is 10 and the average fare is over Php 5,000.00:\n",
            "Empty DataFrame\n",
            "Columns: [flight, count, avg_fare]\n",
            "Index: []\n"
          ]
        }
      ],
      "source": [
        "import pandas as pd\n",
        "\n",
        "# Sample flight data\n",
        "data = {\n",
        "    'traveller': ['Leah', 'Angelo', 'Eashy', 'Leah', 'Angelo', 'Eashy'],\n",
        "    'departure_city': ['Davao', 'Manila', 'Davao', 'Manila', 'Davao', 'Manila'],\n",
        "    'departure_time': ['2023-01-15', '2023-01-20', '2023-02-10', '2023-02-15', '2023-03-05', '2023-03-10'],\n",
        "    'arrival_city': ['Manila', 'Davao', 'Manila', 'Davao', 'Manila', 'Davao'],\n",
        "    'arrival_time': ['2023-01-16', '2023-01-21', '2023-02-11', '2023-02-16', '2023-03-06', '2023-03-11'],\n",
        "    'flight': ['PA123', 'PA456', 'PA789', 'PA123', 'PA456', 'PA789'],\n",
        "    'count': [1, 1, 1, 1, 1, 1],\n",
        "    'avg_fare': [5000, 6000, 5500, 5200, 5300, 5400]\n",
        "}\n",
        "\n",
        "df = pd.DataFrame(data)\n",
        "\n",
        "# Convert departure_time and arrival_time to datetime\n",
        "df['departure_time'] = pd.to_datetime(df['departure_time'])\n",
        "df['arrival_time'] = pd.to_datetime(df['arrival_time'])\n",
        "\n",
        "# (a) OLAP operations for average fare per month for each business traveller who flies Philippine Airlines (PA) from Davao City to Manila in 2023\n",
        "\n",
        "# Filter data for Philippine Airlines (PA) flights from Davao City to Manila in 2023\n",
        "filtered_df = df[(df['flight'].str.startswith('PA')) &\n",
        "                 (df['departure_city'] == 'Davao') &\n",
        "                 (df['arrival_city'] == 'Manila') &\n",
        "                 (df['departure_time'].dt.year == 2023)]\n",
        "\n",
        "# Group by month and traveller, then calculate average fare per month for each business traveller\n",
        "avg_fare_per_month = filtered_df.groupby([filtered_df['departure_time'].dt.month, 'traveller'])['avg_fare'].mean().reset_index()\n",
        "avg_fare_per_month.columns = ['month', 'traveller', 'avg_fare']\n",
        "\n",
        "print(\"Average fare per month for each business traveller who flies Philippine Airlines (PA) from Davao City to Manila in 2023:\")\n",
        "print(avg_fare_per_month)\n",
        "\n",
        "# (b) Efficient cube computation method for minimum number of records is 10 and the average fare is over Php 5,000.00\n",
        "\n",
        "# Group by flight and calculate the number of records and average fare\n",
        "flight_data = df.groupby('flight').agg({'count': 'count', 'avg_fare': 'mean'}).reset_index()\n",
        "\n",
        "# Filter flights with at least 10 records and average fare over Php 5,000.00\n",
        "efficient_cube = flight_data[(flight_data['count'] >= 10) & (flight_data['avg_fare'] > 5000)]\n",
        "\n",
        "print(\"\\nEfficient cube computation method for minimum number of records is 10 and the average fare is over Php 5,000.00:\")\n",
        "print(efficient_cube)\n"
      ]
    }
  ]
}